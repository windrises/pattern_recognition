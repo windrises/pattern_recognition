{
 "cells": [
  {
   "cell_type": "code",
   "execution_count": 6,
   "metadata": {},
   "outputs": [],
   "source": [
    "from scipy.io import loadmat\n",
    "mat = loadmat('./PIE dataset/Pose05_64x64.mat')"
   ]
  },
  {
   "cell_type": "code",
   "execution_count": 7,
   "metadata": {},
   "outputs": [
    {
     "data": {
      "text/plain": [
       "{'__header__': b'MATLAB 5.0 MAT-file Platform: nt, Created on: Mon May 08 13:10:30 2017',\n",
       " '__version__': '1.0',\n",
       " '__globals__': [],\n",
       " 'isTest': array([[0.],\n",
       "        [0.],\n",
       "        [0.],\n",
       "        ...,\n",
       "        [1.],\n",
       "        [0.],\n",
       "        [0.]]),\n",
       " 'fea': array([[ 8,  9,  9, ..., 35, 36, 42],\n",
       "        [ 6,  7,  7, ..., 38, 32, 31],\n",
       "        [ 8,  8,  6, ..., 26, 25, 23],\n",
       "        ...,\n",
       "        [11, 10,  8, ..., 36, 40, 42],\n",
       "        [ 9, 11,  9, ..., 29, 31, 36],\n",
       "        [12,  9,  9, ..., 29, 34, 38]], dtype=uint8),\n",
       " 'gnd': array([[ 1],\n",
       "        [ 1],\n",
       "        [ 1],\n",
       "        ...,\n",
       "        [68],\n",
       "        [68],\n",
       "        [68]], dtype=uint8)}"
      ]
     },
     "execution_count": 7,
     "metadata": {},
     "output_type": "execute_result"
    }
   ],
   "source": [
    "mat"
   ]
  },
  {
   "cell_type": "code",
   "execution_count": 8,
   "metadata": {},
   "outputs": [
    {
     "data": {
      "text/plain": [
       "(3332, 4096)"
      ]
     },
     "execution_count": 8,
     "metadata": {},
     "output_type": "execute_result"
    }
   ],
   "source": [
    "mat['fea'].shape"
   ]
  },
  {
   "cell_type": "code",
   "execution_count": 9,
   "metadata": {},
   "outputs": [
    {
     "data": {
      "text/plain": [
       "(3332, 1)"
      ]
     },
     "execution_count": 9,
     "metadata": {},
     "output_type": "execute_result"
    }
   ],
   "source": [
    "mat['gnd'].shape"
   ]
  },
  {
   "cell_type": "code",
   "execution_count": 53,
   "metadata": {},
   "outputs": [
    {
     "data": {
      "text/plain": [
       "(3332, 4096)"
      ]
     },
     "execution_count": 53,
     "metadata": {},
     "output_type": "execute_result"
    }
   ],
   "source": [
    "import pandas as pd\n",
    "X = pd.DataFrame(data=mat['fea'])\n",
    "y = pd.DataFrame(data=mat['gnd'])\n",
    "isTest = pd.DataFrame(data=mat['isTest'])\n",
    "X.sample(frac=1, random_state=0)\n",
    "y.sample(frac=1, random_state=0)\n",
    "isTest.sample(frac=1, random_state=0)\n",
    "X.shape"
   ]
  },
  {
   "cell_type": "code",
   "execution_count": 55,
   "metadata": {},
   "outputs": [
    {
     "data": {
      "text/plain": [
       "((2992, 4096), (340, 4096))"
      ]
     },
     "execution_count": 55,
     "metadata": {},
     "output_type": "execute_result"
    }
   ],
   "source": [
    "X_train = X[isTest[0] == 0]\n",
    "X_test = X[isTest[0] == 1]\n",
    "y_train = y[isTest[0] == 0].values.ravel()\n",
    "y_test = y[isTest[0] == 1].values.ravel()\n",
    "X_train.shape, X_test.shape"
   ]
  },
  {
   "cell_type": "code",
   "execution_count": 59,
   "metadata": {},
   "outputs": [
    {
     "name": "stdout",
     "output_type": "stream",
     "text": [
      "fit done in 2.027s\n",
      "transform done in 0.107s\n",
      "train done in 333.448s\n",
      "Best estimator found by grid search:\n",
      "SVC(C=1000.0, cache_size=200, class_weight='balanced', coef0=0.0,\n",
      "  decision_function_shape='ovr', degree=3, gamma=0.001, kernel='rbf',\n",
      "  max_iter=-1, probability=False, random_state=None, shrinking=True,\n",
      "  tol=0.001, verbose=False)\n"
     ]
    }
   ],
   "source": [
    "from time import time\n",
    "from sklearn.model_selection import GridSearchCV\n",
    "from sklearn.metrics import classification_report\n",
    "from sklearn.decomposition import PCA\n",
    "from sklearn.svm import SVC\n",
    "import warnings\n",
    "warnings.filterwarnings('ignore')\n",
    "\n",
    "n_components = 150\n",
    "\n",
    "t0 = time()\n",
    "pca = PCA(n_components=n_components, svd_solver='randomized',\n",
    "          whiten=True).fit(X_train)\n",
    "print(\"fit done in %0.3fs\" % (time() - t0))\n",
    "\n",
    "t0 = time()\n",
    "X_train_pca = pca.transform(X_train)\n",
    "X_test_pca = pca.transform(X_test)\n",
    "print(\"transform done in %0.3fs\" % (time() - t0))\n",
    "\n",
    "\n",
    "t0 = time()\n",
    "param_grid = {'C': [1e3, 5e3, 1e4, 5e4, 1e5],\n",
    "              'gamma': [0.0001, 0.0005, 0.001, 0.005, 0.01, 0.1], }\n",
    "clf = GridSearchCV(SVC(kernel='rbf', class_weight='balanced'),\n",
    "                   param_grid, cv=5)\n",
    "clf = clf.fit(X_train_pca, y_train)\n",
    "print(\"train done in %0.3fs\" % (time() - t0))\n",
    "print(\"Best estimator found by grid search:\")\n",
    "print(clf.best_estimator_)"
   ]
  },
  {
   "cell_type": "code",
   "execution_count": 60,
   "metadata": {},
   "outputs": [
    {
     "name": "stdout",
     "output_type": "stream",
     "text": [
      "              precision    recall  f1-score   support\n",
      "\n",
      "           1       1.00      1.00      1.00         5\n",
      "           2       1.00      1.00      1.00         5\n",
      "           3       1.00      1.00      1.00         5\n",
      "           4       1.00      1.00      1.00         5\n",
      "           5       1.00      1.00      1.00         5\n",
      "           6       1.00      1.00      1.00         5\n",
      "           7       1.00      1.00      1.00         5\n",
      "           8       1.00      1.00      1.00         5\n",
      "           9       0.71      1.00      0.83         5\n",
      "          10       1.00      1.00      1.00         5\n",
      "          11       1.00      1.00      1.00         5\n",
      "          12       1.00      1.00      1.00         5\n",
      "          13       1.00      1.00      1.00         5\n",
      "          14       1.00      1.00      1.00         5\n",
      "          15       1.00      1.00      1.00         5\n",
      "          16       0.83      1.00      0.91         5\n",
      "          17       1.00      1.00      1.00         5\n",
      "          18       1.00      1.00      1.00         5\n",
      "          19       1.00      1.00      1.00         5\n",
      "          20       1.00      1.00      1.00         5\n",
      "          21       1.00      1.00      1.00         5\n",
      "          22       1.00      1.00      1.00         5\n",
      "          23       1.00      1.00      1.00         5\n",
      "          24       1.00      1.00      1.00         5\n",
      "          25       1.00      1.00      1.00         5\n",
      "          26       0.83      1.00      0.91         5\n",
      "          27       1.00      1.00      1.00         5\n",
      "          28       1.00      1.00      1.00         5\n",
      "          29       1.00      0.80      0.89         5\n",
      "          30       0.80      0.80      0.80         5\n",
      "          31       1.00      1.00      1.00         5\n",
      "          32       1.00      1.00      1.00         5\n",
      "          33       1.00      1.00      1.00         5\n",
      "          34       1.00      1.00      1.00         5\n",
      "          35       1.00      0.80      0.89         5\n",
      "          36       1.00      1.00      1.00         5\n",
      "          37       1.00      1.00      1.00         5\n",
      "          38       1.00      1.00      1.00         5\n",
      "          39       1.00      1.00      1.00         5\n",
      "          40       1.00      1.00      1.00         5\n",
      "          41       1.00      1.00      1.00         5\n",
      "          42       1.00      0.80      0.89         5\n",
      "          43       0.83      1.00      0.91         5\n",
      "          44       1.00      1.00      1.00         5\n",
      "          45       1.00      1.00      1.00         5\n",
      "          46       1.00      1.00      1.00         5\n",
      "          47       1.00      1.00      1.00         5\n",
      "          48       1.00      1.00      1.00         5\n",
      "          49       1.00      1.00      1.00         5\n",
      "          50       1.00      1.00      1.00         5\n",
      "          51       1.00      1.00      1.00         5\n",
      "          52       1.00      1.00      1.00         5\n",
      "          53       1.00      1.00      1.00         5\n",
      "          54       1.00      1.00      1.00         5\n",
      "          55       1.00      1.00      1.00         5\n",
      "          56       1.00      1.00      1.00         5\n",
      "          57       1.00      1.00      1.00         5\n",
      "          58       1.00      1.00      1.00         5\n",
      "          59       1.00      1.00      1.00         5\n",
      "          60       1.00      1.00      1.00         5\n",
      "          61       1.00      1.00      1.00         5\n",
      "          62       1.00      1.00      1.00         5\n",
      "          63       1.00      1.00      1.00         5\n",
      "          64       1.00      1.00      1.00         5\n",
      "          65       1.00      0.80      0.89         5\n",
      "          66       1.00      1.00      1.00         5\n",
      "          67       1.00      1.00      1.00         5\n",
      "          68       1.00      0.80      0.89         5\n",
      "\n",
      "   micro avg       0.98      0.98      0.98       340\n",
      "   macro avg       0.99      0.98      0.98       340\n",
      "weighted avg       0.99      0.98      0.98       340\n",
      "\n"
     ]
    }
   ],
   "source": [
    "y_pred = clf.predict(X_test_pca)\n",
    "print(classification_report(y_test, y_pred))"
   ]
  }
 ],
 "metadata": {
  "kernelspec": {
   "display_name": "Python 3",
   "language": "python",
   "name": "python3"
  },
  "language_info": {
   "codemirror_mode": {
    "name": "ipython",
    "version": 3
   },
   "file_extension": ".py",
   "mimetype": "text/x-python",
   "name": "python",
   "nbconvert_exporter": "python",
   "pygments_lexer": "ipython3",
   "version": "3.6.2"
  }
 },
 "nbformat": 4,
 "nbformat_minor": 2
}
